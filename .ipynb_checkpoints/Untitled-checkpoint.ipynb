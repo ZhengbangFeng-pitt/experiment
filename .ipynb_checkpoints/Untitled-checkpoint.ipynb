{
 "cells": [
  {
   "cell_type": "code",
   "execution_count": 1,
   "metadata": {},
   "outputs": [
    {
     "name": "stdin",
     "output_type": "stream",
     "text": [
      "input your name here:  haha\n"
     ]
    },
    {
     "name": "stdout",
     "output_type": "stream",
     "text": [
      "Hello  haha  !\n"
     ]
    },
    {
     "name": "stdin",
     "output_type": "stream",
     "text": [
      "input your favourite number here:  t\n"
     ]
    },
    {
     "name": "stdout",
     "output_type": "stream",
     "text": [
      "please print a number\n"
     ]
    },
    {
     "name": "stdin",
     "output_type": "stream",
     "text": [
      "input your favourite number here:  s\n"
     ]
    },
    {
     "name": "stdout",
     "output_type": "stream",
     "text": [
      "please print a number\n"
     ]
    },
    {
     "name": "stdin",
     "output_type": "stream",
     "text": [
      "input your favourite number here:  5\n"
     ]
    },
    {
     "name": "stdout",
     "output_type": "stream",
     "text": [
      "here's the square of your favourite number here:  25.0\n"
     ]
    }
   ],
   "source": [
    "a = input(\"input your name here: \")\n",
    "print(\"Hello \",a,\" !\")\n",
    "i = 1\n",
    "while i > 0:\n",
    "    try:\n",
    "        b = float(input(\"input your favourite number here: \"))\n",
    "        b=b*b\n",
    "        print(\"here's the square of your favourite number here: \",b)\n",
    "        i = -1\n",
    "    except:\n",
    "        print(\"please print a number\")\n",
    "        i = i + 1\n",
    "    #This is a test"
   ]
  },
  {
   "cell_type": "code",
   "execution_count": null,
   "metadata": {},
   "outputs": [],
   "source": []
  },
  {
   "cell_type": "code",
   "execution_count": null,
   "metadata": {},
   "outputs": [],
   "source": []
  }
 ],
 "metadata": {
  "kernelspec": {
   "display_name": "Python 3.7",
   "language": "python",
   "name": "python3"
  },
  "language_info": {
   "codemirror_mode": {
    "name": "ipython",
    "version": 3
   },
   "file_extension": ".py",
   "mimetype": "text/x-python",
   "name": "python",
   "nbconvert_exporter": "python",
   "pygments_lexer": "ipython3",
   "version": "3.7.0"
  }
 },
 "nbformat": 4,
 "nbformat_minor": 2
}
